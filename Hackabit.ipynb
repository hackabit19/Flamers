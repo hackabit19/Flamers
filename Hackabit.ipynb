{
  "nbformat": 4,
  "nbformat_minor": 0,
  "metadata": {
    "colab": {
      "name": "Hackabit.ipynb",
      "provenance": [],
      "private_outputs": true,
      "collapsed_sections": []
    },
    "kernelspec": {
      "name": "python3",
      "display_name": "Python 3"
    },
    "accelerator": "GPU"
  },
  "cells": [
    {
      "cell_type": "code",
      "metadata": {
        "id": "ROP6d-te3rWP",
        "colab_type": "code",
        "colab": {}
      },
      "source": [
        "from google.colab import drive\n",
        "drive.mount('/content/drive')"
      ],
      "execution_count": 0,
      "outputs": []
    },
    {
      "cell_type": "code",
      "metadata": {
        "id": "aZxb-Wo6hjvc",
        "colab_type": "code",
        "colab": {}
      },
      "source": [
        "# ! cp /content/drive/My\\ Drive/DatasetForHackabit2019/Hollywood-dev/movies/imgs.zip /content/\n",
        "! unzip /content/imgs.zip"
      ],
      "execution_count": 0,
      "outputs": []
    },
    {
      "cell_type": "code",
      "metadata": {
        "id": "lOTBj_ZLhhGJ",
        "colab_type": "code",
        "colab": {}
      },
      "source": [
        "# t = [[26871, 30386],\n",
        "#      [77509, 79892],\n",
        "#      [81790, 87836],\n",
        "#      [131366, 132776],\n",
        "#      [135979, 157150],\n",
        "#      [161739, 163247],\n",
        "#      [166900, 168463],\n",
        "#      [177235, 178336],\n",
        "#      [184014, 185293],\n",
        "#      [188466, 188504],\n",
        "#      [198250, 213895]]\n",
        "t = 9249 14986\n",
        "16441 25730\n",
        "31113 36998\n",
        "69574 70219\n",
        "75703 80256\n",
        "84463 85400\n",
        "126263 152423\n",
        "191603 210122\n",
        "212196 223246\n",
        "\n",
        "import os\n",
        "# files = os.listdir('/home/mubasir/Documents/dataset/Compressed/VSD_2014_December_official_release/Hollywood-dev/movies/imgs/')\n",
        "for i in range(1, 10102):\n",
        "    chngd = False\n",
        "    for j in t:\n",
        "        if i>=round(j[0]/23.98) and i<=round(j[1]/23.98):\n",
        "            tp = '1'\n",
        "            chngd = True\n",
        "            break\n",
        "    if not chngd:\n",
        "        tp = '0'\n",
        "    os.rename(os.path.join('/home/mubasir/Documents/dataset/Compressed/VSD_2014_December_official_release/Hollywood-dev/movies/imgs_spr/', 'p'+str(i)+'.png'),\n",
        "              os.path.join('/home/mubasir/Documents/dataset/Compressed/VSD_2014_December_official_release/Hollywood-dev/movies/imgs_spr/', tp, 'p'+str(i)+'.png'))"
      ],
      "execution_count": 0,
      "outputs": []
    },
    {
      "cell_type": "code",
      "metadata": {
        "id": "tMeKON9r3t7u",
        "colab_type": "code",
        "colab": {}
      },
      "source": [
        "import keras.layers as klr\n",
        "from keras.models import Model\n",
        "import keras.applications as kapp\n",
        "import keras.preprocessing.image as kimg\n",
        "import numpy as np\n",
        "import matplotlib.pyplot as plt"
      ],
      "execution_count": 0,
      "outputs": []
    },
    {
      "cell_type": "code",
      "metadata": {
        "id": "zG7465fY4Z3I",
        "colab_type": "code",
        "colab": {}
      },
      "source": [
        "model = kapp.Xception(input_shape=(240, 240, 3), include_top=False, weights='imagenet')\n",
        "\n",
        "for layer in model.layers:\n",
        "    layer.trainable = False\n",
        "\n",
        "x = model.output\n",
        "x = klr.GlobalAveragePooling2D()(x)\n",
        "x = klr.Dense(2, activation='softmax')(x)\n",
        "model = Model(model.input, x)\n",
        "model.summary()"
      ],
      "execution_count": 0,
      "outputs": []
    },
    {
      "cell_type": "code",
      "metadata": {
        "id": "AeTAR7oZDGC2",
        "colab_type": "code",
        "colab": {}
      },
      "source": [
        ""
      ],
      "execution_count": 0,
      "outputs": []
    },
    {
      "cell_type": "code",
      "metadata": {
        "id": "fgCSeYzm4AaF",
        "colab_type": "code",
        "colab": {}
      },
      "source": [
        "train_data = kimg.ImageDataGenerator(rescale=1/255).flow_from_directory('/content/drive/My Drive/DatasetForHackabit2019/Hollywood-dev/movies/pulp_fiction',\n",
        "                                                                        target_size=(240, 240))"
      ],
      "execution_count": 0,
      "outputs": []
    },
    {
      "cell_type": "code",
      "metadata": {
        "id": "ZWxCfM4fDkZP",
        "colab_type": "code",
        "colab": {}
      },
      "source": [
        "model.compile(optimizer='adam', loss='categorical_crossentropy')"
      ],
      "execution_count": 0,
      "outputs": []
    },
    {
      "cell_type": "code",
      "metadata": {
        "id": "GhmSJN-WGtY2",
        "colab_type": "code",
        "colab": {}
      },
      "source": [
        ""
      ],
      "execution_count": 0,
      "outputs": []
    }
  ]
}